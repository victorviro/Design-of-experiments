{
  "nbformat": 4,
  "nbformat_minor": 0,
  "metadata": {
    "colab": {
      "name": "1_design_of_experiments_introduction.ipynb",
      "provenance": [],
      "collapsed_sections": [
        "vaK-yGy5j0Wk",
        "Eoz-srJIjw5w"
      ],
      "toc_visible": true,
      "authorship_tag": "ABX9TyOEXe5gOcwutfGuvD6Wa0//",
      "include_colab_link": true
    },
    "kernelspec": {
      "name": "python3",
      "display_name": "Python 3"
    }
  },
  "cells": [
    {
      "cell_type": "markdown",
      "metadata": {
        "id": "view-in-github",
        "colab_type": "text"
      },
      "source": [
        "<a href=\"https://colab.research.google.com/github/victorviro/design_of_experiments/blob/master/1_design_of_experiments_introduction.ipynb\" target=\"_parent\"><img src=\"https://colab.research.google.com/assets/colab-badge.svg\" alt=\"Open In Colab\"/></a>"
      ]
    },
    {
      "cell_type": "markdown",
      "metadata": {
        "id": "VOKqsatGe3c7",
        "colab_type": "text"
      },
      "source": [
        "# 1. Design of experiments. Introduction\n",
        "\n"
      ]
    },
    {
      "cell_type": "markdown",
      "metadata": {
        "id": "C-790icifELi",
        "colab_type": "text"
      },
      "source": [
        "Observing a system or process while it is in operation is an important part of the learning process, and is an integral part of understanding and learning about how systems and processes work. The great quote said that “. . . you can observe a lot just by watching.” However, to understand what happens to a process when\n",
        "you change certain input factors, you have to do more than just watch. You have to change the factors. This means that to really understand cause-and-effect relationships in a system you must deliberately change the input variables to the system and observe the\n",
        "changes in the system output that these changes to the inputs produce. In other words, you need to conduct **experiments** on the system. Observations on a system or process can lead\n",
        "to theories or hypotheses about what makes the system work, but experiments are required to demonstrate that these theories are correct.\n",
        "\n",
        "\n",
        "Investigators perform experiments usually to discover\n",
        "something about a particular process. Each experimental run is a test. More formally, we can define an experiment as a test or series of runs in which purposeful changes are made to the input variables of a process or system so that we may observe and identify the reasons\n",
        "for changes that may be observed in the output response. We may want to determine which input variables are responsible for the observed changes in the response, develop a model\n",
        "relating the response to the important input variables and to use this model for process improvement or other decision-making.\n",
        "This article is about planning and conducting experiments and about analyzing the resulting data so objective conclusions are obtained. The objective in many cases may be to develop a robust process, that is, a process affected minimally\n",
        "by external sources of variability."
      ]
    },
    {
      "cell_type": "markdown",
      "metadata": {
        "id": "VpfJScbBgqMQ",
        "colab_type": "text"
      },
      "source": [
        "Experimentation is a vital part of the scientific (or engineering) method. Now there are certain situations where the scientific phenomena are so well understood that useful results\n",
        "including mathematical models can be developed directly by applying these well-understood principles. The models of such phenomena that follow directly from the physical mechanism are usually called **mechanistic models**. A simple example is a familiar equation for current flow in an electrical circuit, Ohm’s law, $E= IR$. However, most problems in science and engineering require observation of the system at work and experimentation to elucidate information about why and how it works. Well-designed experiments can often lead to a model of system performance; such experimentally determined models are called **empirical models**. We will present techniques for turning the results of a designed experiment into an empirical model of the system under study.\n",
        "\n",
        "A well-designed experiment is important because the results and conclusions that can be drawn from the experiment depend to a large extent on how the data were\n",
        "collected. The method of data collection\n",
        "has adversely affected the conclusions that can be drawn from the experiment.\n",
        "\n",
        "![Figure 1.1 General model of a process or system](https://www.researchgate.net/profile/Tess_Astatkie/publication/266144909/figure/fig1/AS:295778447839234@1447530485860/A-general-model-that-shows-how-a-process-or-a-system-is-affected-by-controllable-and.png)\n",
        "\n",
        "In general, experiments are used to study the performance of processes and systems.\n",
        "The system or process can be represented by the model shown in the previous figure. We can usually\n",
        "visualize the process as a combination of operations, machines, methods, and other resources that transforms some input (often a material) into an output that has one or more observable response variables. Some of the process variables and material properties $x_{1},x_{2} , . . . , x_{p}$ are controllable, whereas other variables $z_{1} , z_{2} , . . . , z_{q}$ are uncontrollable\n",
        "(although they may be controllable for purposes of a test). The objectives of the experiment\n",
        "may include the following:\n",
        "- Determining which variables are most influential on the response $y$.\n",
        "- Determining where to set the influential $x$’s so that $y$ is almost always near the desired nominal value.\n",
        "- Determining where to set the influential $x$’s so that variability in $y$ is small.\n",
        "- Determining where to set the influential $x$’s so that the effects of the uncontrollable variables $z_{1} , z_{2} , . . . , z_{q}$ are minimized.\n",
        "\n"
      ]
    },
    {
      "cell_type": "markdown",
      "metadata": {
        "id": "vaK-yGy5j0Wk",
        "colab_type": "text"
      },
      "source": [
        "## 1.1 Strategy of experimentation"
      ]
    },
    {
      "cell_type": "markdown",
      "metadata": {
        "id": "ZjifzS4SNarB",
        "colab_type": "text"
      },
      "source": [
        "\n",
        "\n",
        "As you can see, experiments often involve several factors.\n",
        "Usually, an objective of the experimenter is to determine the influence that these factors have on the output response of the system. The general approach to planning and conducting the\n",
        "experiment is called the **strategy of experimentation**. An experimenter can use several strategies.\n",
        "- One approach would be to select an arbitrary combination\n",
        "of the factors, test them, and see what happens. This strategy, which\n",
        "we call the best-guess approach, is frequently used in practice and\n",
        "often works reasonably well, too, because the experimenters often have a great deal of technical or theoretical knowledge of the system they are studying, as well as considerable practical experience. But this strategy has at least two disadvantages. First, suppose the\n",
        "initial best-guess does not produce the desired results. Now the experimenter has to take another guess at the correct combination of factors. This could continue for a long time, without any guarantee of success. Second, suppose the initial best-guess produces an acceptable result. Now the experimenter is tempted to stop testing, although there is no guarantee that the best solution has been found.\n",
        "\n",
        "- Another strategy is used extensively in practice is the one-\n",
        "factor-at-a-time (OFAT) approach. The OFAT method consists of selecting a starting point, or baseline set of levels, for each factor(levels are each label of the factor if it is a categorical variable), and then successively varying each factor over its range with the other factors held constant at the baseline level. After all tests are performed,\n",
        "a series of graphs are usually showed to know how the response variable is affected by varying each factor with all other factors held constant.  The major disadvantage of the OFAT strategy is that it fails to consider any possible interaction between the factors. An interaction is the failure of one factor to produce the same\n",
        "effect on the response at different levels of another factor. \n",
        "Interactions between factors are very common, and if they occur, the one-factor-at-a-time strategy will usually produce poor results. One-\n",
        "factor-at-a-time experiments are always less efficient than other methods based on a statistical approach to design.\n",
        "\n",
        "- The correct approach to dealing with several factors is to conduct a factorial experiment. This is an experimental strategy in which factors are varied together, instead of one at a time. The factorial experimental design concept is extremely important, and several\n",
        "chapters in this article are devoted to presenting basic factorial experiments and several useful variations and special cases."
      ]
    },
    {
      "cell_type": "markdown",
      "metadata": {
        "id": "Eoz-srJIjw5w",
        "colab_type": "text"
      },
      "source": [
        "## 1.2 Basic principles"
      ]
    },
    {
      "cell_type": "markdown",
      "metadata": {
        "id": "yW8Wj-fvpPrb",
        "colab_type": "text"
      },
      "source": [
        "\n",
        "\n",
        "**Statistical design of experiments** refers to the process of planning the experiment so that appropriate data will be collected and analyzed by statistical methods, resulting in valid and objective conclusions. The statistical approach to experimental design is necessary if we\n",
        "wish to draw meaningful conclusions from the data. When the problem involves data that are subject to experimental errors, statistical methods are the only objective approach to analysis.\n",
        "Thus, there are two aspects to any experimental problem: the design of the experiment and the statistical analysis of the data. These two subjects are closely related because the method of analysis depends directly on the design employed. \n",
        "The three basic principles of experimental design are **randomization**, **replication**, and **blocking**. \n",
        "\n",
        "- By [randomization](https://en.wikipedia.org/wiki/Randomized_experiment) we mean that both the allocation(assignment) of the experimental material and the order in which the individuals or units are chosen in the experiment are performed randomly. \n",
        "The word “random” has a very specific meaning in statistics. Arbitrarily choosing names from a list might seem random, but it actually isn’t. Hidden biases (like a subconscious preference for English names or names that sound like friends) means that what you think is a random selection probably isn’t. Because these biases are often hidden or overlooked. Also, statistical methods require that the observations (or errors) be independently distributed random variables and randomization usually makes this assumption valid.\n",
        "Specific randomization techniques have been developed.\n",
        "\n",
        "\n",
        "- By [replication](https://en.wikipedia.org/wiki/Replication_(statistics)) we mean an independent repetition of each treatment(factor combination). Treatments are the set of combinations of all possible levels of each factor. \n",
        " Replication has important properties. It allows the experimenter to obtain an estimate of the experimental error. This estimate of error becomes a basic unit of measurement for determining whether observed differences in the data are statistically different. \n",
        "\n",
        "\n",
        "- **Blocking** is a design technique used to improve the precision with which comparisons\n",
        "among the factors of interest are made. Often blocking is used to reduce or eliminate the variability transmitted from nuisance factors—that is, factors that may influence the experimental response but in which we are not directly interested.\n",
        "Divide the experimental units into groups called blocks so that the experiment does under similar experimental conditions. Instead of being interest to look for possible differences in the response between the levels of the factor(like a treatment factor).\n",
        "\n",
        "\n",
        "\n",
        "\n"
      ]
    },
    {
      "cell_type": "markdown",
      "metadata": {
        "id": "p86npmmNb3Nr",
        "colab_type": "text"
      },
      "source": [
        "## 1.3 Guidelines"
      ]
    },
    {
      "cell_type": "markdown",
      "metadata": {
        "id": "wDhWJ7NCCrqt",
        "colab_type": "text"
      },
      "source": [
        "\n",
        "\n",
        "\n",
        "**1. Recognition of the problem.**\n",
        "\n",
        "This may seem to be an obvious point, but in practice, it is not simple to develop a clear and generally accepted statement of the problem. It is necessary to develop all the ideas about the objectives of the experiment. Usually, it is important to solicit input from all concerned teams: engineering, quality assurance, manufacturing, marketing, management, customer... For this reason, a team approach to designing experiments is recommended.\n",
        "It is usually helpful to prepare a list of specific problems or questions that are to be addressed by the experiment. A clear statement of the problem often contributes substantially to a better understanding of the phenomenon being studied and the final solution to the problem.\n",
        "It is also important to keep the overall objectives of the experiment in mind.\n",
        "\n",
        "\n",
        "**2. Selection of the response variable.**\n",
        "\n",
        "In selecting the response variable, the experimenter should be certain that this variable provides useful information about the process under study. Most often, the average or standard deviation (or both) of the measured characteristic will be the response variable, although multiple responses are not unusuaĺ.\n",
        "It is critically important to identify issues related to defining the responses of interest and how they are to be measured before conducting the experiment.\n",
        "\n",
        "**3. Choice of factors and levels.**\n",
        "\n",
        "When considering the factors that may\n",
        "influence the performance of a process or system, those can be classified as either potential design factors or nuisance\n",
        "factors. The potential design factors are those factors that the experimenter may wish to vary in the experiment. \n",
        "\n",
        "Nuisance factors, on the other hand, may have large effects that must be accounted for, yet we may not be interested in them in the context of the present experiment. Nuisance factors are often classified as controllable, uncontrollable, or noise\n",
        "factors. A controllable nuisance factor is one whose levels may be set by the experimenter. The blocking principle, discussed in the previous section, is often useful in dealing with controllable nuisance factors. If a nuisance factor is uncontrollable in the experiment, but it can be\n",
        "measured, an analysis procedure called the analysis of covariance can often be used to compensate for its effect. When a factor that varies naturally and uncontrollably in the process can be controlled for purposes of an experiment, we often call it a noise factor. In such situations, our objective is usually to find\n",
        "the settings of the controllable design factors that minimize the variability transmitted from the noise factors. This is sometimes called a process robustness study or a robust design problem.\n",
        "\n",
        "Once the experimenter has selected the design factors, he or she must choose the ranges over which these factors will be varied and the specific levels at which runs will be made. Process knowledge is required to do this. This process knowledge is usually a combination of practical experience and theoretical understanding.\n",
        "\n",
        "The [cause-and-effect diagram](https://en.wikipedia.org/wiki/Ishikawa_diagram) can be a useful technique for organizing some of the information generated in pre-experimental planning.\n",
        "\n",
        "**4. Choice of experimental design**\n",
        "\n",
        "The choice of design involves consideration of sample size (number of replicates), selection of a suitable run order for the experimental trials, and determination of whether or not blocking or other randomization restrictions are involved.\n",
        "\n",
        "Design selection also involves thinking about and selecting a tentative empirical model to describe the results. The model is just a quantitative relationship (equation)\n",
        "between the response and the important design factors.\n",
        "\n",
        "\n",
        "**5. Performing the experiment.**\n",
        "\n",
        "Errors in experimental procedures at this stage will usually destroy experimental validity.\n",
        "Coleman and Montgomery (1993) suggest that pilot runs are often helpful. These runs provide information about the consistency of experimental material, a check on the measurement system, a\n",
        "rough idea of experimental error, and a chance to practice the overall experimental technique. This also provides an opportunity to revisit the decisions made in steps 1–4, if necessary.\n",
        "\n",
        "\n",
        "**6. Statistical analysis of the data.** \n",
        "\n",
        "If the experiment has been designed correctly and performed according to the design, the statistical methods required are not elaborate. There are many excellent software\n",
        "packages designed to assist in data analysis. Often\n",
        "we find that simple graphical methods play an important role in data analysis and interpretation. Because many of the questions that the experimenter wants to answer can be cast into a hypothesis-testing framework, hypothesis testing and confidence interval estimation procedures are very useful in analyzing data from a designed\n",
        "experiment.\n",
        "\n",
        "It is also usually very helpful to present the results of many experiments in terms of an empirical model. Residual analysis and model adequacy checking are also important analysis techniques. We will discuss these issues in detail later.\n",
        "\n",
        "Remember that statistical methods cannot prove that a factor (or factors) has a particular effect. They only provide guidelines as to the validity and allow us to measure the likely error in a conclusion or to attach a level of confidence to a statement. The primary advantage of statistical methods is that they add objectivity to the decision-making process. Statistical techniques coupled with good engineering or process knowledge and common sense will usually lead to sound conclusions."
      ]
    }
  ]
}